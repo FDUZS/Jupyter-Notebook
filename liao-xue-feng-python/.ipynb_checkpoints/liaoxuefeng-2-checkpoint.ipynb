{
 "cells": [
  {
   "cell_type": "code",
   "execution_count": 1,
   "metadata": {},
   "outputs": [
    {
     "name": "stdout",
     "output_type": "stream",
     "text": [
      "test text\n",
      "just a test\n"
     ]
    }
   ],
   "source": [
    "# 从 IO 编程开始\n",
    "# 使用异步 IO 程序性能要高，但是更复杂\n",
    "with open(\"io-demo.txt\") as f:\n",
    "    print(f.read())"
   ]
  },
  {
   "cell_type": "code",
   "execution_count": 2,
   "metadata": {},
   "outputs": [
    {
     "name": "stdout",
     "output_type": "stream",
     "text": [
      "test text\n",
      "just a test\n"
     ]
    }
   ],
   "source": [
    "with open(\"io-demo.txt\") as f:\n",
    "    for line in f.readlines():\n",
    "        print(line.strip())"
   ]
  },
  {
   "cell_type": "code",
   "execution_count": 3,
   "metadata": {},
   "outputs": [],
   "source": [
    "f = open(\"test.txt\", \"w\")\n",
    "f.write(\"Hello, world!\")\n",
    "f.close()"
   ]
  },
  {
   "cell_type": "code",
   "execution_count": 4,
   "metadata": {},
   "outputs": [],
   "source": [
    "with open(\"test.txt\", \"a\") as f:\n",
    "    f.write(\"hello, test!\")"
   ]
  },
  {
   "cell_type": "code",
   "execution_count": 5,
   "metadata": {},
   "outputs": [
    {
     "name": "stdout",
     "output_type": "stream",
     "text": [
      "Hello, world!hello, test!\n"
     ]
    }
   ],
   "source": [
    "with open(\"test.txt\", \"r\") as f:\n",
    "    s = f.read()\n",
    "    print(s)"
   ]
  },
  {
   "cell_type": "code",
   "execution_count": 6,
   "metadata": {},
   "outputs": [
    {
     "name": "stdout",
     "output_type": "stream",
     "text": [
      "hello world!\n"
     ]
    }
   ],
   "source": [
    "from io import StringIO\n",
    "f = StringIO()\n",
    "f.write(\"hello\")\n",
    "f.write(\" \")\n",
    "f.write(\"world!\")\n",
    "print(f.getvalue())"
   ]
  },
  {
   "cell_type": "code",
   "execution_count": 7,
   "metadata": {},
   "outputs": [
    {
     "name": "stdout",
     "output_type": "stream",
     "text": [
      "Hello!\n",
      "Hi!\n",
      "Goodbye!\n"
     ]
    }
   ],
   "source": [
    "from io import StringIO\n",
    "f = StringIO(\"Hello!\\nHi!\\nGoodbye!\")\n",
    "while True:\n",
    "    s = f.readline()\n",
    "    if s == \"\":\n",
    "        break\n",
    "    print(s.strip())"
   ]
  },
  {
   "cell_type": "code",
   "execution_count": 8,
   "metadata": {},
   "outputs": [
    {
     "data": {
      "text/plain": [
       "6"
      ]
     },
     "execution_count": 8,
     "metadata": {},
     "output_type": "execute_result"
    }
   ],
   "source": [
    "from io import BytesIO\n",
    "f = BytesIO()\n",
    "f.write(\"中文\".encode(\"utf-8\"))"
   ]
  },
  {
   "cell_type": "code",
   "execution_count": 9,
   "metadata": {},
   "outputs": [
    {
     "name": "stdout",
     "output_type": "stream",
     "text": [
      "b'\\xe4\\xb8\\xad\\xe6\\x96\\x87'\n"
     ]
    }
   ],
   "source": [
    "print(f.getvalue())"
   ]
  },
  {
   "cell_type": "code",
   "execution_count": 10,
   "metadata": {},
   "outputs": [
    {
     "data": {
      "text/plain": [
       "b'\\xe4\\xb8\\xad\\xe6\\x96\\x87'"
      ]
     },
     "execution_count": 10,
     "metadata": {},
     "output_type": "execute_result"
    }
   ],
   "source": [
    "from io import BytesIO\n",
    "f = BytesIO(b'\\xe4\\xb8\\xad\\xe6\\x96\\x87')\n",
    "f.read()"
   ]
  },
  {
   "cell_type": "code",
   "execution_count": 11,
   "metadata": {},
   "outputs": [
    {
     "name": "stdout",
     "output_type": "stream",
     "text": [
      "nt\n"
     ]
    }
   ],
   "source": [
    "import os\n",
    "print(os.name)"
   ]
  },
  {
   "cell_type": "code",
   "execution_count": 14,
   "metadata": {},
   "outputs": [
    {
     "name": "stdout",
     "output_type": "stream",
     "text": [
      "environ({'ALLUSERSPROFILE': 'C:\\\\ProgramData', 'APPDATA': 'C:\\\\Users\\\\Zheng\\\\AppData\\\\Roaming', 'CLION': 'C:\\\\Program Files\\\\JetBrains\\\\CLion 2020.1.3\\\\bin;', 'COMMONPROGRAMFILES': 'C:\\\\Program Files\\\\Common Files', 'COMMONPROGRAMFILES(X86)': 'C:\\\\Program Files (x86)\\\\Common Files', 'COMMONPROGRAMW6432': 'C:\\\\Program Files\\\\Common Files', 'COMPUTERNAME': 'XIAOMIAIR', 'COMSPEC': 'C:\\\\WINDOWS\\\\system32\\\\cmd.exe', 'DRIVERDATA': 'C:\\\\Windows\\\\System32\\\\Drivers\\\\DriverData', 'FORKGITINSTANCE': 'D:\\\\Scoop\\\\apps\\\\git\\\\current', 'GEM_HOME': 'D:\\\\Scoop\\\\apps\\\\ruby\\\\current\\\\gems', 'GEM_PATH': 'D:\\\\Scoop\\\\apps\\\\ruby\\\\current\\\\gems', 'GIT_INSTALL_ROOT': 'D:\\\\Scoop\\\\apps\\\\git\\\\current', 'GOLAND': 'C:\\\\Program Files\\\\JetBrains\\\\GoLand 2020.1.4\\\\bin;', 'GOPATH': 'C:\\\\Users\\\\Zheng\\\\go', 'HOME': 'C:\\\\Users\\\\Zheng', 'HOMEDRIVE': 'C:', 'HOMEPATH': '\\\\Users\\\\Zheng', 'INTELLIJ IDEA': 'C:\\\\Program Files\\\\JetBrains\\\\IntelliJ IDEA 2020.2\\\\bin;', 'JAVA_HOME': 'D:\\\\Scoop\\\\apps\\\\openjdk8-redhat\\\\current', 'KOTLIN_HOME': 'D:\\\\Scoop\\\\apps\\\\kotlin\\\\current', 'LOCALAPPDATA': 'C:\\\\Users\\\\Zheng\\\\AppData\\\\Local', 'LOGONSERVER': '\\\\\\\\XIAOMIAIR', 'NODE_PATH': 'D:\\\\Scoop\\\\apps\\\\yarn\\\\current\\\\global\\\\node_modules', 'NUMBER_OF_PROCESSORS': '8', 'NVM_HOME': 'D:\\\\Scoop\\\\apps\\\\nvm\\\\current', 'NVM_SYMLINK': 'D:\\\\Scoop\\\\persist\\\\nvm\\\\nodejs\\\\nodejs', 'ONEDRIVE': 'C:\\\\Users\\\\Zheng\\\\OneDrive', 'ONEDRIVECONSUMER': 'C:\\\\Users\\\\Zheng\\\\OneDrive', 'OS': 'Windows_NT', 'PATH': 'd:\\\\scoop\\\\apps\\\\python\\\\current\\\\lib\\\\site-packages\\\\pywin32_system32;d:\\\\scoop\\\\apps\\\\python\\\\3.7.6\\\\lib\\\\site-packages\\\\pywin32_system32;C:\\\\Program Files (x86)\\\\Intel\\\\Intel(R) Management Engine Components\\\\iCLS\\\\;C:\\\\Program Files\\\\Intel\\\\Intel(R) Management Engine Components\\\\iCLS\\\\;C:\\\\Rtools\\\\bin;C:\\\\Windows\\\\system32;C:\\\\Windows;C:\\\\Windows\\\\System32\\\\Wbem;C:\\\\Windows\\\\System32\\\\WindowsPowerShell\\\\v1.0\\\\;C:\\\\Windows\\\\System32\\\\OpenSSH\\\\;C:\\\\Program Files (x86)\\\\Intel\\\\Intel(R) Management Engine Components\\\\DAL;C:\\\\Program Files\\\\Intel\\\\Intel(R) Management Engine Components\\\\DAL;C:\\\\Program Files (x86)\\\\NVIDIA Corporation\\\\PhysX\\\\Common;C:\\\\Program Files\\\\Intel\\\\WiFi\\\\bin\\\\;C:\\\\Program Files\\\\Common Files\\\\Intel\\\\WirelessCommon\\\\;C:\\\\Program Files\\\\NVIDIA Corporation\\\\NVIDIA NvDLISR;C:\\\\WINDOWS\\\\system32;C:\\\\WINDOWS;C:\\\\WINDOWS\\\\System32\\\\Wbem;C:\\\\WINDOWS\\\\System32\\\\WindowsPowerShell\\\\v1.0\\\\;C:\\\\Go\\\\bin;C:\\\\Program Files\\\\dotnet\\\\;C:\\\\Program Files\\\\Microsoft SQL Server\\\\130\\\\Tools\\\\Binn\\\\;C:\\\\Program Files\\\\Microsoft SQL Server\\\\Client SDK\\\\ODBC\\\\170\\\\Tools\\\\Binn\\\\;D:\\\\Scoop\\\\apps\\\\openjdk8-redhat\\\\current\\\\bin;D:\\\\Scoop\\\\apps\\\\gpg\\\\current\\\\bin;D:\\\\Scoop\\\\apps\\\\bind\\\\current\\\\bin;D:\\\\Scoop\\\\apps\\\\ruby\\\\current\\\\bin;D:\\\\Scoop\\\\apps\\\\ruby\\\\current\\\\gems\\\\bin;D:\\\\Scoop\\\\apps\\\\nodejs-lts\\\\current\\\\bin;D:\\\\Scoop\\\\apps\\\\nodejs-lts\\\\current;D:\\\\Scoop\\\\apps\\\\yarn\\\\current\\\\Yarn\\\\bin;D:\\\\Scoop\\\\apps\\\\yarn\\\\current\\\\global\\\\node_modules\\\\.bin;D:\\\\Scoop\\\\apps\\\\python\\\\current;D:\\\\Scoop\\\\apps\\\\python\\\\current\\\\Scripts;D:\\\\Scoop\\\\apps\\\\nvm\\\\current\\\\nodejs\\\\nodejs;D:\\\\Scoop\\\\shims;C:\\\\Users\\\\Zheng\\\\go\\\\bin;C:\\\\texlive\\\\2020\\\\bin\\\\win32;C:\\\\Users\\\\Zheng\\\\AppData\\\\Local\\\\Microsoft\\\\WindowsApps;C:\\\\Users\\\\Zheng\\\\AppData\\\\Local\\\\Microsoft\\\\WindowsApps;C:\\\\Program Files\\\\JetBrains\\\\CLion 2020.1.3\\\\bin;C:\\\\Program Files\\\\JetBrains\\\\GoLand 2020.1.4\\\\bin;C:\\\\Program Files\\\\JetBrains\\\\IntelliJ IDEA 2020.2\\\\bin;C:\\\\Program Files\\\\JetBrains\\\\PyCharm 2020.2\\\\bin;C:\\\\Program Files\\\\JetBrains\\\\WebStorm 2020.2\\\\bin;C:\\\\Users\\\\Zheng\\\\go\\\\bin;C:\\\\Users\\\\Zheng\\\\.dotnet\\\\tools', 'PATHEXT': '.COM;.EXE;.BAT;.CMD;.VBS;.VBE;.JS;.JSE;.WSF;.WSH;.MSC;.CPL', 'PHP_INI_SCAN_DIR': 'D:\\\\Scoop\\\\apps\\\\php\\\\current\\\\cli;D:\\\\Scoop\\\\apps\\\\php\\\\current\\\\cli\\\\conf.d;', 'PROCESSOR_ARCHITECTURE': 'AMD64', 'PROCESSOR_IDENTIFIER': 'Intel64 Family 6 Model 142 Stepping 10, GenuineIntel', 'PROCESSOR_LEVEL': '6', 'PROCESSOR_REVISION': '8e0a', 'PROGRAMDATA': 'C:\\\\ProgramData', 'PROGRAMFILES': 'C:\\\\Program Files', 'PROGRAMFILES(X86)': 'C:\\\\Program Files (x86)', 'PROGRAMW6432': 'C:\\\\Program Files', 'PSMODULEPATH': 'D:\\\\Scoop\\\\modules;C:\\\\Users\\\\Zheng\\\\Documents\\\\WindowsPowerShell\\\\Modules;C:\\\\Program Files\\\\WindowsPowerShell\\\\Modules;C:\\\\WINDOWS\\\\system32\\\\WindowsPowerShell\\\\v1.0\\\\Modules', 'PUBLIC': 'C:\\\\Users\\\\Public', 'PYCHARM': 'C:\\\\Program Files\\\\JetBrains\\\\PyCharm 2020.2\\\\bin;', 'SCOOP': 'D:\\\\Scoop', 'SYSTEMDRIVE': 'C:', 'SYSTEMROOT': 'C:\\\\WINDOWS', 'TEMP': 'C:\\\\Users\\\\Zheng\\\\AppData\\\\Local\\\\Temp', 'TMP': 'C:\\\\Users\\\\Zheng\\\\AppData\\\\Local\\\\Temp', 'USERDOMAIN': 'XIAOMIAIR', 'USERDOMAIN_ROAMINGPROFILE': 'XIAOMIAIR', 'USERNAME': 'Zheng', 'USERPROFILE': 'C:\\\\Users\\\\Zheng', 'WEBSTORM': 'C:\\\\Program Files\\\\JetBrains\\\\WebStorm 2020.2\\\\bin;', 'WINDIR': 'C:\\\\WINDOWS', 'WSLENV': 'WT_SESSION::WT_PROFILE_ID', 'WT_PROFILE_ID': '{61c54bbd-c2c6-5271-96e7-009a87ff44bf}', 'WT_SESSION': 'ade59add-5552-47f8-bbda-395ba4e68b84', 'KERNEL_LAUNCH_TIMEOUT': '40', 'JPY_INTERRUPT_EVENT': '2768', 'IPY_INTERRUPT_EVENT': '2768', 'JPY_PARENT_PID': '2804', 'TERM': 'xterm-color', 'CLICOLOR': '1', 'PAGER': 'cat', 'GIT_PAGER': 'cat', 'MPLBACKEND': 'module://ipykernel.pylab.backend_inline'})\n"
     ]
    }
   ],
   "source": [
    "print(os.environ)"
   ]
  },
  {
   "cell_type": "code",
   "execution_count": 15,
   "metadata": {},
   "outputs": [
    {
     "name": "stdout",
     "output_type": "stream",
     "text": [
      "d:\\scoop\\apps\\python\\current\\lib\\site-packages\\pywin32_system32;d:\\scoop\\apps\\python\\3.7.6\\lib\\site-packages\\pywin32_system32;C:\\Program Files (x86)\\Intel\\Intel(R) Management Engine Components\\iCLS\\;C:\\Program Files\\Intel\\Intel(R) Management Engine Components\\iCLS\\;C:\\Rtools\\bin;C:\\Windows\\system32;C:\\Windows;C:\\Windows\\System32\\Wbem;C:\\Windows\\System32\\WindowsPowerShell\\v1.0\\;C:\\Windows\\System32\\OpenSSH\\;C:\\Program Files (x86)\\Intel\\Intel(R) Management Engine Components\\DAL;C:\\Program Files\\Intel\\Intel(R) Management Engine Components\\DAL;C:\\Program Files (x86)\\NVIDIA Corporation\\PhysX\\Common;C:\\Program Files\\Intel\\WiFi\\bin\\;C:\\Program Files\\Common Files\\Intel\\WirelessCommon\\;C:\\Program Files\\NVIDIA Corporation\\NVIDIA NvDLISR;C:\\WINDOWS\\system32;C:\\WINDOWS;C:\\WINDOWS\\System32\\Wbem;C:\\WINDOWS\\System32\\WindowsPowerShell\\v1.0\\;C:\\Go\\bin;C:\\Program Files\\dotnet\\;C:\\Program Files\\Microsoft SQL Server\\130\\Tools\\Binn\\;C:\\Program Files\\Microsoft SQL Server\\Client SDK\\ODBC\\170\\Tools\\Binn\\;D:\\Scoop\\apps\\openjdk8-redhat\\current\\bin;D:\\Scoop\\apps\\gpg\\current\\bin;D:\\Scoop\\apps\\bind\\current\\bin;D:\\Scoop\\apps\\ruby\\current\\bin;D:\\Scoop\\apps\\ruby\\current\\gems\\bin;D:\\Scoop\\apps\\nodejs-lts\\current\\bin;D:\\Scoop\\apps\\nodejs-lts\\current;D:\\Scoop\\apps\\yarn\\current\\Yarn\\bin;D:\\Scoop\\apps\\yarn\\current\\global\\node_modules\\.bin;D:\\Scoop\\apps\\python\\current;D:\\Scoop\\apps\\python\\current\\Scripts;D:\\Scoop\\apps\\nvm\\current\\nodejs\\nodejs;D:\\Scoop\\shims;C:\\Users\\Zheng\\go\\bin;C:\\texlive\\2020\\bin\\win32;C:\\Users\\Zheng\\AppData\\Local\\Microsoft\\WindowsApps;C:\\Users\\Zheng\\AppData\\Local\\Microsoft\\WindowsApps;C:\\Program Files\\JetBrains\\CLion 2020.1.3\\bin;C:\\Program Files\\JetBrains\\GoLand 2020.1.4\\bin;C:\\Program Files\\JetBrains\\IntelliJ IDEA 2020.2\\bin;C:\\Program Files\\JetBrains\\PyCharm 2020.2\\bin;C:\\Program Files\\JetBrains\\WebStorm 2020.2\\bin;C:\\Users\\Zheng\\go\\bin;C:\\Users\\Zheng\\.dotnet\\tools\n"
     ]
    }
   ],
   "source": [
    "print(os.environ.get(\"path\"))"
   ]
  },
  {
   "cell_type": "code",
   "execution_count": 16,
   "metadata": {},
   "outputs": [
    {
     "data": {
      "text/plain": [
       "'D:\\\\Code\\\\Jupyter_Notebook\\\\Learning'"
      ]
     },
     "execution_count": 16,
     "metadata": {},
     "output_type": "execute_result"
    }
   ],
   "source": [
    "os.path.abspath(\".\")"
   ]
  },
  {
   "cell_type": "code",
   "execution_count": 17,
   "metadata": {},
   "outputs": [
    {
     "data": {
      "text/plain": [
       "('D:\\\\Code\\\\Jupyter_Notebook', 'Learning')"
      ]
     },
     "execution_count": 17,
     "metadata": {},
     "output_type": "execute_result"
    }
   ],
   "source": [
    "os.path.split(\"D:\\\\Code\\\\Jupyter_Notebook\\\\Learning\")"
   ]
  },
  {
   "cell_type": "code",
   "execution_count": 18,
   "metadata": {},
   "outputs": [
    {
     "data": {
      "text/plain": [
       "['.ipynb_checkpoints', 'data-science-hands-on', '__pycache__']"
      ]
     },
     "execution_count": 18,
     "metadata": {},
     "output_type": "execute_result"
    }
   ],
   "source": [
    "[x for x in os.listdir(\".\") if os.path.isdir(x)]"
   ]
  },
  {
   "cell_type": "code",
   "execution_count": 19,
   "metadata": {},
   "outputs": [
    {
     "data": {
      "text/plain": [
       "'{\"name\": \"Bob\", \"age\": 20, \"score\": 88}'"
      ]
     },
     "execution_count": 19,
     "metadata": {},
     "output_type": "execute_result"
    }
   ],
   "source": [
    "import json\n",
    "d = dict(name=\"Bob\", age=20, score=88)\n",
    "json.dumps(d)"
   ]
  },
  {
   "cell_type": "code",
   "execution_count": 21,
   "metadata": {},
   "outputs": [
    {
     "data": {
      "text/plain": [
       "{'name': 'Bob', 'age': 20, 'score': 88}"
      ]
     },
     "execution_count": 21,
     "metadata": {},
     "output_type": "execute_result"
    }
   ],
   "source": [
    "json_str = '{\"name\": \"Bob\", \"age\": 20, \"score\": 88}'\n",
    "json.loads(json_str)"
   ]
  },
  {
   "cell_type": "code",
   "execution_count": 24,
   "metadata": {},
   "outputs": [
    {
     "name": "stdout",
     "output_type": "stream",
     "text": [
      "{\"name\": \"Bob\", \"age\": 20, \"score\": 88}\n"
     ]
    }
   ],
   "source": [
    "import json\n",
    "\n",
    "def student2dict(std):\n",
    "    return {\n",
    "        'name': std.name,\n",
    "        'age': std.age,\n",
    "        'score': std.score\n",
    "    }\n",
    "\n",
    "class Student(object):\n",
    "    def __init__(self, name, age, score):\n",
    "        self.name = name\n",
    "        self.age = age\n",
    "        self.score = score\n",
    "        \n",
    "s = Student('Bob', 20, 88)\n",
    "print(json.dumps(s, default=student2dict))"
   ]
  },
  {
   "cell_type": "code",
   "execution_count": 25,
   "metadata": {},
   "outputs": [
    {
     "name": "stdout",
     "output_type": "stream",
     "text": [
      "<__main__.Student object at 0x000001A29DB5B608>\n"
     ]
    }
   ],
   "source": [
    "def dict2student(d):\n",
    "    return Student(d['name'], d['age'], d['score'])\n",
    "\n",
    "json_str = '{\"name\": \"Bob\", \"age\": 20, \"score\": 88}'\n",
    "print(json.loads(json_str, object_hook=dict2student))"
   ]
  },
  {
   "cell_type": "code",
   "execution_count": 29,
   "metadata": {},
   "outputs": [
    {
     "name": "stdout",
     "output_type": "stream",
     "text": [
      "{\"name\": \"\\u5c0f\\u660e\", \"age\": 20}\n"
     ]
    }
   ],
   "source": [
    "import json\n",
    "obj = dict(name='小明', age=20)\n",
    "s = json.dumps(obj, ensure_ascii=True)\n",
    "print(s)"
   ]
  },
  {
   "cell_type": "markdown",
   "metadata": {},
   "source": [
    "### 进程和线程\n",
    "- 多进程模式\n",
    "- 多线程模式\n",
    "- 多进程 + 多线程模式"
   ]
  },
  {
   "cell_type": "code",
   "execution_count": 3,
   "metadata": {},
   "outputs": [],
   "source": [
    "# import os\n",
    "# print(\"Process (%s) start...\" % os.getpid())\n",
    "# pid = os.fork()\n",
    "# if pid == 0:\n",
    "#     print(\"I am child process (%s) and my parent is %s.\" % (os.getpid(), os.getppid()))\n",
    "# else:\n",
    "#     print(\"I (%s) just created a child process (%s).\" % (os.getpid(), pid))"
   ]
  },
  {
   "cell_type": "code",
   "execution_count": null,
   "metadata": {},
   "outputs": [],
   "source": []
  },
  {
   "cell_type": "code",
   "execution_count": null,
   "metadata": {},
   "outputs": [],
   "source": []
  }
 ],
 "metadata": {
  "kernelspec": {
   "display_name": "Python 3",
   "language": "python",
   "name": "python3"
  },
  "language_info": {
   "codemirror_mode": {
    "name": "ipython",
    "version": 3
   },
   "file_extension": ".py",
   "mimetype": "text/x-python",
   "name": "python",
   "nbconvert_exporter": "python",
   "pygments_lexer": "ipython3",
   "version": "3.7.6"
  }
 },
 "nbformat": 4,
 "nbformat_minor": 4
}
