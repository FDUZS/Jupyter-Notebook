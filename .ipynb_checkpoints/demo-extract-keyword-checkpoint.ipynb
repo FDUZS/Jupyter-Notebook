{
 "cells": [
  {
   "cell_type": "code",
   "execution_count": 2,
   "metadata": {},
   "outputs": [],
   "source": [
    "from jieba.analyse import *"
   ]
  },
  {
   "cell_type": "code",
   "execution_count": 3,
   "metadata": {},
   "outputs": [],
   "source": [
    "with open(\"python-r-emotion.txt\", encoding=\"utf-8\") as f:\n",
    "    data = f.read()"
   ]
  },
  {
   "cell_type": "code",
   "execution_count": 4,
   "metadata": {},
   "outputs": [
    {
     "name": "stderr",
     "output_type": "stream",
     "text": [
      "Building prefix dict from the default dictionary ...\n",
      "Loading model from cache C:\\Users\\Zheng\\AppData\\Local\\Temp\\jieba.cache\n",
      "Loading model cost 0.761 seconds.\n",
      "Prefix dict has been built succesfully.\n"
     ]
    },
    {
     "name": "stdout",
     "output_type": "stream",
     "text": [
      "ROBB 0.17797499122828597\n",
      "his 0.1615825578256807\n",
      "WALDER 0.1451901244230754\n",
      "her 0.1451901244230754\n",
      "looks 0.1170888100186092\n",
      "CATELYN 0.11474703381823702\n",
      "him 0.11474703381823702\n",
      "up 0.11240525761786482\n",
      "BRAN 0.10772170521712046\n",
      "HOUND 0.10537992901674828\n",
      "back 0.09835460041563172\n",
      "ARYA 0.09601282421525954\n",
      "OSHA 0.0866457194137708\n",
      "TORMUND 0.08430394321339862\n",
      "He 0.07727861461228207\n",
      "my 0.07493683841190989\n",
      "re 0.07493683841190989\n",
      "your 0.0725950622115377\n",
      "TALISA 0.0725950622115377\n",
      "he 0.07025328601116552\n"
     ]
    }
   ],
   "source": [
    "for keyword, weight in extract_tags(data, withWeight=True):\n",
    "    print(\"%s %s\" % (keyword, weight))"
   ]
  },
  {
   "cell_type": "code",
   "execution_count": 5,
   "metadata": {},
   "outputs": [],
   "source": [
    "for keyword, weight in textrank(data, withWeight=True):\n",
    "    print(\"%s %s\" % (keyword, weight))"
   ]
  },
  {
   "cell_type": "code",
   "execution_count": 6,
   "metadata": {},
   "outputs": [],
   "source": [
    "text = \"The sequel, Yes, Prime Minister, ran from 1986 to 1988. In total there were 38 episodes, of which all but one lasted half an hour. Almost all episodes ended with a variation of the title of the series spoken as the answer to a question posed by the same character, Jim Hacker. Several episodes were adapted for BBC Radio, and a stage play was produced in 2010, the latter leading to a new television series on UKTV Gold in 2013.\""
   ]
  },
  {
   "cell_type": "code",
   "execution_count": 7,
   "metadata": {},
   "outputs": [
    {
     "data": {
      "text/plain": [
       "'The sequel, Yes, Prime Minister, ran from 1986 to 1988. In total there were 38 episodes, of which all but one lasted half an hour. Almost all episodes ended with a variation of the title of the series spoken as the answer to a question posed by the same character, Jim Hacker. Several episodes were adapted for BBC Radio, and a stage play was produced in 2010, the latter leading to a new television series on UKTV Gold in 2013.'"
      ]
     },
     "execution_count": 7,
     "metadata": {},
     "output_type": "execute_result"
    }
   ],
   "source": [
    "text"
   ]
  },
  {
   "cell_type": "code",
   "execution_count": 8,
   "metadata": {},
   "outputs": [],
   "source": [
    "import spacy"
   ]
  },
  {
   "cell_type": "code",
   "execution_count": 9,
   "metadata": {},
   "outputs": [],
   "source": [
    "nlp = spacy.load('en')"
   ]
  },
  {
   "cell_type": "code",
   "execution_count": 10,
   "metadata": {},
   "outputs": [],
   "source": [
    "doc = nlp(text)"
   ]
  },
  {
   "cell_type": "code",
   "execution_count": 11,
   "metadata": {},
   "outputs": [
    {
     "data": {
      "text/plain": [
       "The sequel, Yes, Prime Minister, ran from 1986 to 1988. In total there were 38 episodes, of which all but one lasted half an hour. Almost all episodes ended with a variation of the title of the series spoken as the answer to a question posed by the same character, Jim Hacker. Several episodes were adapted for BBC Radio, and a stage play was produced in 2010, the latter leading to a new television series on UKTV Gold in 2013."
      ]
     },
     "execution_count": 11,
     "metadata": {},
     "output_type": "execute_result"
    }
   ],
   "source": [
    "doc"
   ]
  },
  {
   "cell_type": "code",
   "execution_count": 12,
   "metadata": {},
   "outputs": [
    {
     "name": "stdout",
     "output_type": "stream",
     "text": [
      "\"The\"\n",
      "\"sequel\"\n",
      "\",\"\n",
      "\"Yes\"\n",
      "\",\"\n",
      "\"Prime\"\n",
      "\"Minister\"\n",
      "\",\"\n",
      "\"ran\"\n",
      "\"from\"\n",
      "\"1986\"\n",
      "\"to\"\n",
      "\"1988\"\n",
      "\".\"\n",
      "\"In\"\n",
      "\"total\"\n",
      "\"there\"\n",
      "\"were\"\n",
      "\"38\"\n",
      "\"episodes\"\n",
      "\",\"\n",
      "\"of\"\n",
      "\"which\"\n",
      "\"all\"\n",
      "\"but\"\n",
      "\"one\"\n",
      "\"lasted\"\n",
      "\"half\"\n",
      "\"an\"\n",
      "\"hour\"\n",
      "\".\"\n",
      "\"Almost\"\n",
      "\"all\"\n",
      "\"episodes\"\n",
      "\"ended\"\n",
      "\"with\"\n",
      "\"a\"\n",
      "\"variation\"\n",
      "\"of\"\n",
      "\"the\"\n",
      "\"title\"\n",
      "\"of\"\n",
      "\"the\"\n",
      "\"series\"\n",
      "\"spoken\"\n",
      "\"as\"\n",
      "\"the\"\n",
      "\"answer\"\n",
      "\"to\"\n",
      "\"a\"\n",
      "\"question\"\n",
      "\"posed\"\n",
      "\"by\"\n",
      "\"the\"\n",
      "\"same\"\n",
      "\"character\"\n",
      "\",\"\n",
      "\"Jim\"\n",
      "\"Hacker\"\n",
      "\".\"\n",
      "\"Several\"\n",
      "\"episodes\"\n",
      "\"were\"\n",
      "\"adapted\"\n",
      "\"for\"\n",
      "\"BBC\"\n",
      "\"Radio\"\n",
      "\",\"\n",
      "\"and\"\n",
      "\"a\"\n",
      "\"stage\"\n",
      "\"play\"\n",
      "\"was\"\n",
      "\"produced\"\n",
      "\"in\"\n",
      "\"2010\"\n",
      "\",\"\n",
      "\"the\"\n",
      "\"latter\"\n",
      "\"leading\"\n",
      "\"to\"\n",
      "\"a\"\n",
      "\"new\"\n",
      "\"television\"\n",
      "\"series\"\n",
      "\"on\"\n",
      "\"UKTV\"\n",
      "\"Gold\"\n",
      "\"in\"\n",
      "\"2013\"\n",
      "\".\"\n"
     ]
    }
   ],
   "source": [
    "for token in doc:\n",
    "    print('\"' + token.text +  '\"')"
   ]
  },
  {
   "cell_type": "code",
   "execution_count": 13,
   "metadata": {},
   "outputs": [
    {
     "name": "stdout",
     "output_type": "stream",
     "text": [
      "The\t0\tthe\tFalse\tFalse\tXxx\tDET\tDT\n",
      "sequel\t4\tsequel\tFalse\tFalse\txxxx\tNOUN\tNN\n",
      ",\t10\t,\tTrue\tFalse\t,\tPUNCT\t,\n",
      "Yes\t12\tyes\tFalse\tFalse\tXxx\tINTJ\tUH\n",
      ",\t15\t,\tTrue\tFalse\t,\tPUNCT\t,\n",
      "Prime\t17\tPrime\tFalse\tFalse\tXxxxx\tPROPN\tNNP\n",
      "Minister\t23\tMinister\tFalse\tFalse\tXxxxx\tPROPN\tNNP\n",
      ",\t31\t,\tTrue\tFalse\t,\tPUNCT\t,\n",
      "ran\t33\trun\tFalse\tFalse\txxx\tVERB\tVBD\n",
      "from\t37\tfrom\tFalse\tFalse\txxxx\tADP\tIN\n"
     ]
    }
   ],
   "source": [
    "for token in doc[:10]:\n",
    "    print(\"{0}\\t{1}\\t{2}\\t{3}\\t{4}\\t{5}\\t{6}\\t{7}\".format(\n",
    "        token.text,\n",
    "        token.idx,\n",
    "        token.lemma_,\n",
    "        token.is_punct,\n",
    "        token.is_space,\n",
    "        token.shape_,\n",
    "        token.pos_,\n",
    "        token.tag_\n",
    "    ))"
   ]
  },
  {
   "cell_type": "code",
   "execution_count": 14,
   "metadata": {},
   "outputs": [
    {
     "name": "stdout",
     "output_type": "stream",
     "text": [
      "1986 to 1988 DATE\n",
      "38 CARDINAL\n",
      "one CARDINAL\n",
      "half an hour TIME\n",
      "Jim Hacker PERSON\n",
      "BBC Radio ORG\n",
      "2010 DATE\n",
      "UKTV Gold ORG\n",
      "2013 DATE\n"
     ]
    }
   ],
   "source": [
    "for ent in doc.ents:\n",
    "    print(ent.text, ent.label_)"
   ]
  },
  {
   "cell_type": "code",
   "execution_count": 15,
   "metadata": {},
   "outputs": [
    {
     "data": {
      "text/html": [
       "<div class=\"entities\" style=\"line-height: 2.5; direction: ltr\">The sequel, Yes, Prime Minister, ran from \n",
       "<mark class=\"entity\" style=\"background: #bfe1d9; padding: 0.45em 0.6em; margin: 0 0.25em; line-height: 1; border-radius: 0.35em; box-decoration-break: clone; -webkit-box-decoration-break: clone\">\n",
       "    1986 to 1988\n",
       "    <span style=\"font-size: 0.8em; font-weight: bold; line-height: 1; border-radius: 0.35em; text-transform: uppercase; vertical-align: middle; margin-left: 0.5rem\">DATE</span>\n",
       "</mark>\n",
       ". In total there were \n",
       "<mark class=\"entity\" style=\"background: #e4e7d2; padding: 0.45em 0.6em; margin: 0 0.25em; line-height: 1; border-radius: 0.35em; box-decoration-break: clone; -webkit-box-decoration-break: clone\">\n",
       "    38\n",
       "    <span style=\"font-size: 0.8em; font-weight: bold; line-height: 1; border-radius: 0.35em; text-transform: uppercase; vertical-align: middle; margin-left: 0.5rem\">CARDINAL</span>\n",
       "</mark>\n",
       " episodes, of which all but \n",
       "<mark class=\"entity\" style=\"background: #e4e7d2; padding: 0.45em 0.6em; margin: 0 0.25em; line-height: 1; border-radius: 0.35em; box-decoration-break: clone; -webkit-box-decoration-break: clone\">\n",
       "    one\n",
       "    <span style=\"font-size: 0.8em; font-weight: bold; line-height: 1; border-radius: 0.35em; text-transform: uppercase; vertical-align: middle; margin-left: 0.5rem\">CARDINAL</span>\n",
       "</mark>\n",
       " lasted \n",
       "<mark class=\"entity\" style=\"background: #bfe1d9; padding: 0.45em 0.6em; margin: 0 0.25em; line-height: 1; border-radius: 0.35em; box-decoration-break: clone; -webkit-box-decoration-break: clone\">\n",
       "    half an hour\n",
       "    <span style=\"font-size: 0.8em; font-weight: bold; line-height: 1; border-radius: 0.35em; text-transform: uppercase; vertical-align: middle; margin-left: 0.5rem\">TIME</span>\n",
       "</mark>\n",
       ". Almost all episodes ended with a variation of the title of the series spoken as the answer to a question posed by the same character, \n",
       "<mark class=\"entity\" style=\"background: #aa9cfc; padding: 0.45em 0.6em; margin: 0 0.25em; line-height: 1; border-radius: 0.35em; box-decoration-break: clone; -webkit-box-decoration-break: clone\">\n",
       "    Jim Hacker\n",
       "    <span style=\"font-size: 0.8em; font-weight: bold; line-height: 1; border-radius: 0.35em; text-transform: uppercase; vertical-align: middle; margin-left: 0.5rem\">PERSON</span>\n",
       "</mark>\n",
       ". Several episodes were adapted for \n",
       "<mark class=\"entity\" style=\"background: #7aecec; padding: 0.45em 0.6em; margin: 0 0.25em; line-height: 1; border-radius: 0.35em; box-decoration-break: clone; -webkit-box-decoration-break: clone\">\n",
       "    BBC Radio\n",
       "    <span style=\"font-size: 0.8em; font-weight: bold; line-height: 1; border-radius: 0.35em; text-transform: uppercase; vertical-align: middle; margin-left: 0.5rem\">ORG</span>\n",
       "</mark>\n",
       ", and a stage play was produced in \n",
       "<mark class=\"entity\" style=\"background: #bfe1d9; padding: 0.45em 0.6em; margin: 0 0.25em; line-height: 1; border-radius: 0.35em; box-decoration-break: clone; -webkit-box-decoration-break: clone\">\n",
       "    2010\n",
       "    <span style=\"font-size: 0.8em; font-weight: bold; line-height: 1; border-radius: 0.35em; text-transform: uppercase; vertical-align: middle; margin-left: 0.5rem\">DATE</span>\n",
       "</mark>\n",
       ", the latter leading to a new television series on \n",
       "<mark class=\"entity\" style=\"background: #7aecec; padding: 0.45em 0.6em; margin: 0 0.25em; line-height: 1; border-radius: 0.35em; box-decoration-break: clone; -webkit-box-decoration-break: clone\">\n",
       "    UKTV Gold\n",
       "    <span style=\"font-size: 0.8em; font-weight: bold; line-height: 1; border-radius: 0.35em; text-transform: uppercase; vertical-align: middle; margin-left: 0.5rem\">ORG</span>\n",
       "</mark>\n",
       " in \n",
       "<mark class=\"entity\" style=\"background: #bfe1d9; padding: 0.45em 0.6em; margin: 0 0.25em; line-height: 1; border-radius: 0.35em; box-decoration-break: clone; -webkit-box-decoration-break: clone\">\n",
       "    2013\n",
       "    <span style=\"font-size: 0.8em; font-weight: bold; line-height: 1; border-radius: 0.35em; text-transform: uppercase; vertical-align: middle; margin-left: 0.5rem\">DATE</span>\n",
       "</mark>\n",
       ".</div>"
      ],
      "text/plain": [
       "<IPython.core.display.HTML object>"
      ]
     },
     "metadata": {},
     "output_type": "display_data"
    }
   ],
   "source": [
    "from spacy import displacy\n",
    "displacy.render(doc, style=\"ent\", jupyter=True)"
   ]
  },
  {
   "cell_type": "code",
   "execution_count": 16,
   "metadata": {},
   "outputs": [
    {
     "name": "stdout",
     "output_type": "stream",
     "text": [
      "The sequel, Yes, Prime Minister, ran from 1986 to 1988.\n",
      "In total there were 38 episodes, of which all but one lasted half an hour.\n",
      "Almost all episodes ended with a variation of the title of the series spoken as the answer to a question posed by the same character, Jim Hacker.\n",
      "Several episodes were adapted for BBC Radio, and a stage play was produced in 2010, the latter leading to a new television series on UKTV Gold in 2013.\n"
     ]
    }
   ],
   "source": [
    "for sent in doc.sents:\n",
    "    print(sent)"
   ]
  },
  {
   "cell_type": "code",
   "execution_count": 17,
   "metadata": {},
   "outputs": [
    {
     "data": {
      "text/plain": [
       "<generator at 0x26b585997c8>"
      ]
     },
     "execution_count": 17,
     "metadata": {},
     "output_type": "execute_result"
    }
   ],
   "source": [
    "doc.sents"
   ]
  },
  {
   "cell_type": "code",
   "execution_count": 18,
   "metadata": {},
   "outputs": [],
   "source": [
    "newdoc = nlp(list(doc.sents)[0].text)"
   ]
  },
  {
   "cell_type": "code",
   "execution_count": 19,
   "metadata": {},
   "outputs": [
    {
     "name": "stdout",
     "output_type": "stream",
     "text": [
      "The/DT <--det-- sequel/NN\n",
      "sequel/NN <--nsubj-- ran/VBD\n",
      ",/, <--punct-- sequel/NN\n",
      "Yes/UH <--intj-- sequel/NN\n",
      ",/, <--punct-- sequel/NN\n",
      "Prime/NNP <--compound-- Minister/NNP\n",
      "Minister/NNP <--appos-- sequel/NN\n",
      ",/, <--punct-- ran/VBD\n",
      "ran/VBD <--ROOT-- ran/VBD\n",
      "from/IN <--prep-- ran/VBD\n",
      "1986/CD <--pobj-- from/IN\n",
      "to/IN <--prep-- from/IN\n",
      "1988/CD <--pobj-- to/IN\n",
      "./. <--punct-- ran/VBD\n"
     ]
    }
   ],
   "source": [
    "for token in newdoc:\n",
    "    print(\"{0}/{1} <--{2}-- {3}/{4}\".format(\n",
    "        token.text, token.tag_, token.dep_, token.head.text, token.head.tag_\n",
    "    ))"
   ]
  },
  {
   "cell_type": "code",
   "execution_count": 20,
   "metadata": {},
   "outputs": [
    {
     "data": {
      "text/html": [
       "<svg xmlns=\"http://www.w3.org/2000/svg\" xmlns:xlink=\"http://www.w3.org/1999/xlink\" xml:lang=\"en\" id=\"151eadc46bcf4410b6d30d64e3446aa1-0\" class=\"displacy\" width=\"950\" height=\"317.0\" direction=\"ltr\" style=\"max-width: none; height: 317.0px; color: #000000; background: #ffffff; font-family: Arial; direction: ltr\">\n",
       "<text class=\"displacy-token\" fill=\"currentColor\" text-anchor=\"middle\" y=\"227.0\">\n",
       "    <tspan class=\"displacy-word\" fill=\"currentColor\" x=\"50\">The</tspan>\n",
       "    <tspan class=\"displacy-tag\" dy=\"2em\" fill=\"currentColor\" x=\"50\">DET</tspan>\n",
       "</text>\n",
       "\n",
       "<text class=\"displacy-token\" fill=\"currentColor\" text-anchor=\"middle\" y=\"227.0\">\n",
       "    <tspan class=\"displacy-word\" fill=\"currentColor\" x=\"140\">sequel,</tspan>\n",
       "    <tspan class=\"displacy-tag\" dy=\"2em\" fill=\"currentColor\" x=\"140\">NOUN</tspan>\n",
       "</text>\n",
       "\n",
       "<text class=\"displacy-token\" fill=\"currentColor\" text-anchor=\"middle\" y=\"227.0\">\n",
       "    <tspan class=\"displacy-word\" fill=\"currentColor\" x=\"230\">Yes,</tspan>\n",
       "    <tspan class=\"displacy-tag\" dy=\"2em\" fill=\"currentColor\" x=\"230\">INTJ</tspan>\n",
       "</text>\n",
       "\n",
       "<text class=\"displacy-token\" fill=\"currentColor\" text-anchor=\"middle\" y=\"227.0\">\n",
       "    <tspan class=\"displacy-word\" fill=\"currentColor\" x=\"320\">Prime</tspan>\n",
       "    <tspan class=\"displacy-tag\" dy=\"2em\" fill=\"currentColor\" x=\"320\">PROPN</tspan>\n",
       "</text>\n",
       "\n",
       "<text class=\"displacy-token\" fill=\"currentColor\" text-anchor=\"middle\" y=\"227.0\">\n",
       "    <tspan class=\"displacy-word\" fill=\"currentColor\" x=\"410\">Minister,</tspan>\n",
       "    <tspan class=\"displacy-tag\" dy=\"2em\" fill=\"currentColor\" x=\"410\">PROPN</tspan>\n",
       "</text>\n",
       "\n",
       "<text class=\"displacy-token\" fill=\"currentColor\" text-anchor=\"middle\" y=\"227.0\">\n",
       "    <tspan class=\"displacy-word\" fill=\"currentColor\" x=\"500\">ran</tspan>\n",
       "    <tspan class=\"displacy-tag\" dy=\"2em\" fill=\"currentColor\" x=\"500\">VERB</tspan>\n",
       "</text>\n",
       "\n",
       "<text class=\"displacy-token\" fill=\"currentColor\" text-anchor=\"middle\" y=\"227.0\">\n",
       "    <tspan class=\"displacy-word\" fill=\"currentColor\" x=\"590\">from</tspan>\n",
       "    <tspan class=\"displacy-tag\" dy=\"2em\" fill=\"currentColor\" x=\"590\">ADP</tspan>\n",
       "</text>\n",
       "\n",
       "<text class=\"displacy-token\" fill=\"currentColor\" text-anchor=\"middle\" y=\"227.0\">\n",
       "    <tspan class=\"displacy-word\" fill=\"currentColor\" x=\"680\">1986</tspan>\n",
       "    <tspan class=\"displacy-tag\" dy=\"2em\" fill=\"currentColor\" x=\"680\">NUM</tspan>\n",
       "</text>\n",
       "\n",
       "<text class=\"displacy-token\" fill=\"currentColor\" text-anchor=\"middle\" y=\"227.0\">\n",
       "    <tspan class=\"displacy-word\" fill=\"currentColor\" x=\"770\">to</tspan>\n",
       "    <tspan class=\"displacy-tag\" dy=\"2em\" fill=\"currentColor\" x=\"770\">ADP</tspan>\n",
       "</text>\n",
       "\n",
       "<text class=\"displacy-token\" fill=\"currentColor\" text-anchor=\"middle\" y=\"227.0\">\n",
       "    <tspan class=\"displacy-word\" fill=\"currentColor\" x=\"860\">1988.</tspan>\n",
       "    <tspan class=\"displacy-tag\" dy=\"2em\" fill=\"currentColor\" x=\"860\">NUM</tspan>\n",
       "</text>\n",
       "\n",
       "<g class=\"displacy-arrow\">\n",
       "    <path class=\"displacy-arc\" id=\"arrow-151eadc46bcf4410b6d30d64e3446aa1-0-0\" stroke-width=\"2px\" d=\"M70,182.0 C70,137.0 125.0,137.0 125.0,182.0\" fill=\"none\" stroke=\"currentColor\"/>\n",
       "    <text dy=\"1.25em\" style=\"font-size: 0.8em; letter-spacing: 1px\">\n",
       "        <textPath xlink:href=\"#arrow-151eadc46bcf4410b6d30d64e3446aa1-0-0\" class=\"displacy-label\" startOffset=\"50%\" side=\"left\" fill=\"currentColor\" text-anchor=\"middle\">det</textPath>\n",
       "    </text>\n",
       "    <path class=\"displacy-arrowhead\" d=\"M70,184.0 L62,172.0 78,172.0\" fill=\"currentColor\"/>\n",
       "</g>\n",
       "\n",
       "<g class=\"displacy-arrow\">\n",
       "    <path class=\"displacy-arc\" id=\"arrow-151eadc46bcf4410b6d30d64e3446aa1-0-1\" stroke-width=\"2px\" d=\"M160,182.0 C160,2.0 500.0,2.0 500.0,182.0\" fill=\"none\" stroke=\"currentColor\"/>\n",
       "    <text dy=\"1.25em\" style=\"font-size: 0.8em; letter-spacing: 1px\">\n",
       "        <textPath xlink:href=\"#arrow-151eadc46bcf4410b6d30d64e3446aa1-0-1\" class=\"displacy-label\" startOffset=\"50%\" side=\"left\" fill=\"currentColor\" text-anchor=\"middle\">nsubj</textPath>\n",
       "    </text>\n",
       "    <path class=\"displacy-arrowhead\" d=\"M160,184.0 L152,172.0 168,172.0\" fill=\"currentColor\"/>\n",
       "</g>\n",
       "\n",
       "<g class=\"displacy-arrow\">\n",
       "    <path class=\"displacy-arc\" id=\"arrow-151eadc46bcf4410b6d30d64e3446aa1-0-2\" stroke-width=\"2px\" d=\"M160,182.0 C160,137.0 215.0,137.0 215.0,182.0\" fill=\"none\" stroke=\"currentColor\"/>\n",
       "    <text dy=\"1.25em\" style=\"font-size: 0.8em; letter-spacing: 1px\">\n",
       "        <textPath xlink:href=\"#arrow-151eadc46bcf4410b6d30d64e3446aa1-0-2\" class=\"displacy-label\" startOffset=\"50%\" side=\"left\" fill=\"currentColor\" text-anchor=\"middle\">intj</textPath>\n",
       "    </text>\n",
       "    <path class=\"displacy-arrowhead\" d=\"M215.0,184.0 L223.0,172.0 207.0,172.0\" fill=\"currentColor\"/>\n",
       "</g>\n",
       "\n",
       "<g class=\"displacy-arrow\">\n",
       "    <path class=\"displacy-arc\" id=\"arrow-151eadc46bcf4410b6d30d64e3446aa1-0-3\" stroke-width=\"2px\" d=\"M340,182.0 C340,137.0 395.0,137.0 395.0,182.0\" fill=\"none\" stroke=\"currentColor\"/>\n",
       "    <text dy=\"1.25em\" style=\"font-size: 0.8em; letter-spacing: 1px\">\n",
       "        <textPath xlink:href=\"#arrow-151eadc46bcf4410b6d30d64e3446aa1-0-3\" class=\"displacy-label\" startOffset=\"50%\" side=\"left\" fill=\"currentColor\" text-anchor=\"middle\">compound</textPath>\n",
       "    </text>\n",
       "    <path class=\"displacy-arrowhead\" d=\"M340,184.0 L332,172.0 348,172.0\" fill=\"currentColor\"/>\n",
       "</g>\n",
       "\n",
       "<g class=\"displacy-arrow\">\n",
       "    <path class=\"displacy-arc\" id=\"arrow-151eadc46bcf4410b6d30d64e3446aa1-0-4\" stroke-width=\"2px\" d=\"M160,182.0 C160,47.0 405.0,47.0 405.0,182.0\" fill=\"none\" stroke=\"currentColor\"/>\n",
       "    <text dy=\"1.25em\" style=\"font-size: 0.8em; letter-spacing: 1px\">\n",
       "        <textPath xlink:href=\"#arrow-151eadc46bcf4410b6d30d64e3446aa1-0-4\" class=\"displacy-label\" startOffset=\"50%\" side=\"left\" fill=\"currentColor\" text-anchor=\"middle\">appos</textPath>\n",
       "    </text>\n",
       "    <path class=\"displacy-arrowhead\" d=\"M405.0,184.0 L413.0,172.0 397.0,172.0\" fill=\"currentColor\"/>\n",
       "</g>\n",
       "\n",
       "<g class=\"displacy-arrow\">\n",
       "    <path class=\"displacy-arc\" id=\"arrow-151eadc46bcf4410b6d30d64e3446aa1-0-5\" stroke-width=\"2px\" d=\"M520,182.0 C520,137.0 575.0,137.0 575.0,182.0\" fill=\"none\" stroke=\"currentColor\"/>\n",
       "    <text dy=\"1.25em\" style=\"font-size: 0.8em; letter-spacing: 1px\">\n",
       "        <textPath xlink:href=\"#arrow-151eadc46bcf4410b6d30d64e3446aa1-0-5\" class=\"displacy-label\" startOffset=\"50%\" side=\"left\" fill=\"currentColor\" text-anchor=\"middle\">prep</textPath>\n",
       "    </text>\n",
       "    <path class=\"displacy-arrowhead\" d=\"M575.0,184.0 L583.0,172.0 567.0,172.0\" fill=\"currentColor\"/>\n",
       "</g>\n",
       "\n",
       "<g class=\"displacy-arrow\">\n",
       "    <path class=\"displacy-arc\" id=\"arrow-151eadc46bcf4410b6d30d64e3446aa1-0-6\" stroke-width=\"2px\" d=\"M610,182.0 C610,137.0 665.0,137.0 665.0,182.0\" fill=\"none\" stroke=\"currentColor\"/>\n",
       "    <text dy=\"1.25em\" style=\"font-size: 0.8em; letter-spacing: 1px\">\n",
       "        <textPath xlink:href=\"#arrow-151eadc46bcf4410b6d30d64e3446aa1-0-6\" class=\"displacy-label\" startOffset=\"50%\" side=\"left\" fill=\"currentColor\" text-anchor=\"middle\">pobj</textPath>\n",
       "    </text>\n",
       "    <path class=\"displacy-arrowhead\" d=\"M665.0,184.0 L673.0,172.0 657.0,172.0\" fill=\"currentColor\"/>\n",
       "</g>\n",
       "\n",
       "<g class=\"displacy-arrow\">\n",
       "    <path class=\"displacy-arc\" id=\"arrow-151eadc46bcf4410b6d30d64e3446aa1-0-7\" stroke-width=\"2px\" d=\"M610,182.0 C610,92.0 760.0,92.0 760.0,182.0\" fill=\"none\" stroke=\"currentColor\"/>\n",
       "    <text dy=\"1.25em\" style=\"font-size: 0.8em; letter-spacing: 1px\">\n",
       "        <textPath xlink:href=\"#arrow-151eadc46bcf4410b6d30d64e3446aa1-0-7\" class=\"displacy-label\" startOffset=\"50%\" side=\"left\" fill=\"currentColor\" text-anchor=\"middle\">prep</textPath>\n",
       "    </text>\n",
       "    <path class=\"displacy-arrowhead\" d=\"M760.0,184.0 L768.0,172.0 752.0,172.0\" fill=\"currentColor\"/>\n",
       "</g>\n",
       "\n",
       "<g class=\"displacy-arrow\">\n",
       "    <path class=\"displacy-arc\" id=\"arrow-151eadc46bcf4410b6d30d64e3446aa1-0-8\" stroke-width=\"2px\" d=\"M790,182.0 C790,137.0 845.0,137.0 845.0,182.0\" fill=\"none\" stroke=\"currentColor\"/>\n",
       "    <text dy=\"1.25em\" style=\"font-size: 0.8em; letter-spacing: 1px\">\n",
       "        <textPath xlink:href=\"#arrow-151eadc46bcf4410b6d30d64e3446aa1-0-8\" class=\"displacy-label\" startOffset=\"50%\" side=\"left\" fill=\"currentColor\" text-anchor=\"middle\">pobj</textPath>\n",
       "    </text>\n",
       "    <path class=\"displacy-arrowhead\" d=\"M845.0,184.0 L853.0,172.0 837.0,172.0\" fill=\"currentColor\"/>\n",
       "</g>\n",
       "</svg>"
      ],
      "text/plain": [
       "<IPython.core.display.HTML object>"
      ]
     },
     "metadata": {},
     "output_type": "display_data"
    }
   ],
   "source": [
    "displacy.render(newdoc, style=\"dep\", jupyter=True, options={\"distance\": 90})"
   ]
  },
  {
   "cell_type": "code",
   "execution_count": 21,
   "metadata": {},
   "outputs": [],
   "source": [
    "nlp = spacy.load(\"en_core_web_lg\")"
   ]
  },
  {
   "cell_type": "code",
   "execution_count": 22,
   "metadata": {},
   "outputs": [
    {
     "name": "stdout",
     "output_type": "stream",
     "text": [
      "[-3.2239e-01  3.8982e-01  6.4522e-01  8.7596e-02  4.0262e-01 -4.1253e-01\n",
      "  1.3804e-01 -4.0226e-01 -3.0679e-01  3.6520e+00 -6.1745e-01 -2.4114e-01\n",
      "  1.7488e-01 -2.5995e-01 -3.8512e-01 -1.3747e-01 -3.7446e-01 -8.0867e-01\n",
      "  2.8081e-01  2.9735e-01  1.7901e-01 -3.4726e-02  7.2466e-02 -5.2111e-01\n",
      "  7.1858e-02  1.5913e-01 -6.0877e-01  1.6604e-01 -9.3809e-02  2.0030e-01\n",
      " -5.0653e-01 -1.4978e-01  1.7742e-01  3.2996e-02 -2.1082e-01 -6.0442e-02\n",
      " -9.6639e-02 -4.6054e-01 -7.1622e-02 -1.4829e-01  5.1362e-01 -3.7840e-01\n",
      " -3.2035e-01 -1.1593e-01 -1.5887e-01  2.5999e-01  2.6821e-01  2.7429e-01\n",
      " -5.8973e-02 -1.0218e-01  6.6629e-03  3.5737e-01  3.1083e-01  4.7950e-01\n",
      "  4.4323e-01  8.0089e-03  6.4577e-02 -4.1851e-01  3.2589e-01 -6.0894e-01\n",
      " -3.5944e-01  1.9116e-01  1.5910e-02 -1.8912e-01  1.2646e-01 -9.6918e-03\n",
      " -6.5529e-01 -4.1851e-01  4.0244e-01 -6.7241e-01 -7.6219e-01  2.6207e-01\n",
      " -1.5607e+00  3.2982e-01 -4.1586e-01  3.4098e-01 -1.2571e-01 -1.2014e-01\n",
      "  1.3608e-02 -1.7894e-01  5.0916e-01 -2.8449e-01 -1.9519e-01  1.7161e-01\n",
      " -1.8038e-01 -3.7242e-01  2.8779e-01 -9.9446e-01  3.8110e-01 -3.6687e-01\n",
      "  6.7859e-01  4.1517e-01  1.4029e-04 -9.2324e-02  1.4499e-01 -6.3138e-01\n",
      "  8.5580e-02  9.8767e-02 -4.2732e-02 -5.1192e-01 -3.6008e-01  1.7807e-01\n",
      "  4.3106e-01 -2.7113e-01  2.6117e-01 -1.1093e+00 -5.3453e-02  1.2964e-01\n",
      "  7.2043e-02 -2.9840e-01 -3.0373e-01  1.2479e-01 -6.2262e-01  3.1790e-01\n",
      " -5.0850e-02 -3.4046e-01 -7.0588e-01  7.3111e-02 -9.7412e-02  1.5489e-01\n",
      " -1.7524e-01 -9.3642e-02 -4.5105e-01  3.4972e-01  2.2643e-01  3.3525e-01\n",
      "  2.0722e-01 -5.2710e-01 -3.6449e-01  6.1503e-02 -2.8858e-01  2.8356e-01\n",
      "  1.2859e-01 -3.3722e-01  9.9695e-02  5.4493e-01  3.4306e-01  6.4749e-01\n",
      " -1.3339e-01 -3.0286e-01 -7.0783e-02  1.6607e-01 -5.3108e-01 -1.1629e-01\n",
      "  1.8794e-01  8.7658e-02  8.2277e-02 -5.9183e-01 -1.3002e+00 -3.1180e-01\n",
      " -4.5598e-02  2.9376e-01 -1.9878e-01 -4.1425e-01  3.5388e-01  2.6559e-01\n",
      "  3.2310e-01  1.6575e-01  1.7211e-01  1.8798e-01  2.0010e-01 -1.7585e-01\n",
      " -1.4383e-01  4.6441e-01 -3.5426e-01  3.5655e-02  2.1650e-01 -6.9591e-01\n",
      " -1.9097e-03  3.5148e-01 -4.4031e-01  2.5784e-02 -1.6795e-01  6.7284e-01\n",
      "  9.0581e-02 -1.8994e-01  5.4949e-01  1.4926e-01  7.2222e-01 -3.3370e-01\n",
      " -5.1958e-01  3.2437e-01  1.9644e-01 -1.5863e-01  1.9083e-03  5.1186e-01\n",
      " -9.5662e-02  2.1656e-02 -1.3161e-01 -1.1805e-01  1.6575e-01  2.9505e-01\n",
      "  4.9018e-01 -4.2977e-01 -1.5993e-01 -3.6753e-01  8.7457e-02 -6.8308e-02\n",
      " -1.5331e-01 -2.7103e-01 -5.4915e-01  9.1917e-01  4.2635e-01 -5.2601e-01\n",
      "  8.4366e-01  5.7226e-02  1.9534e-01 -3.8182e-01 -9.0527e-02  4.5610e-02\n",
      " -9.6872e-03 -6.0501e-01 -2.8681e-01  2.8389e-01  6.2697e-01 -1.0516e-01\n",
      " -4.8453e-01 -3.2606e-01 -5.7180e-01  4.4597e-01 -7.7640e-02  3.0929e-01\n",
      "  1.2633e-01  1.1981e+00  6.9421e-01  3.7257e-01 -4.8151e-02  8.7035e-02\n",
      " -5.7236e-01  4.3714e-01  6.7161e-02  4.1036e-01 -2.5125e-01 -6.1381e-01\n",
      "  9.6459e-03 -5.2952e-01 -2.5677e-01  2.1411e-01 -2.6532e-01  5.5811e-02\n",
      "  8.7852e-02  1.2621e-01  3.5266e-01 -5.6351e-01 -3.5930e-01 -1.3401e-01\n",
      "  7.7801e-01 -2.5249e-01  2.0385e-01 -6.5584e-01 -4.9989e-02  8.7359e-01\n",
      "  4.5170e-01 -2.5920e-01  9.2309e-01  3.6927e-01  4.7212e-01 -4.0808e-01\n",
      " -6.7676e-01  2.8296e-01  1.1870e-01  2.5123e-01  6.3988e-02  3.8518e-01\n",
      " -4.5629e-01 -4.9095e-01 -2.9056e-01  1.1609e-01 -1.4937e-01 -3.6742e-01\n",
      "  1.9663e-01  4.5344e-01 -1.3246e-01  3.2582e-01 -3.9982e-01  1.8979e-01\n",
      "  3.0114e-01  7.4952e-01  7.7731e-02  1.2773e-01  5.0207e-02  3.8849e-02\n",
      "  1.5883e-01  1.9287e-01 -4.3273e-01 -1.1075e-01  2.8002e-03  6.2109e-01\n",
      " -6.8976e-01  1.1181e-01  4.9622e-01  8.5923e-02  2.5591e-01 -1.4410e-01\n",
      "  1.6128e-01  4.0757e-01  2.0046e-01 -1.0036e-01  6.1331e-01 -5.2357e-01]\n"
     ]
    }
   ],
   "source": [
    "print(nlp.vocab['minister'].vector)"
   ]
  },
  {
   "cell_type": "code",
   "execution_count": 23,
   "metadata": {},
   "outputs": [],
   "source": [
    "dog = nlp.vocab[\"dog\"]\n",
    "cat = nlp.vocab[\"cat\"]\n",
    "apple = nlp.vocab[\"apple\"]\n",
    "orange = nlp.vocab[\"orange\"]"
   ]
  },
  {
   "cell_type": "code",
   "execution_count": 24,
   "metadata": {},
   "outputs": [
    {
     "data": {
      "text/plain": [
       "0.80168545"
      ]
     },
     "execution_count": 24,
     "metadata": {},
     "output_type": "execute_result"
    }
   ],
   "source": [
    "dog.similarity(cat)"
   ]
  },
  {
   "cell_type": "code",
   "execution_count": 25,
   "metadata": {},
   "outputs": [
    {
     "data": {
      "text/plain": [
       "0.26339024"
      ]
     },
     "execution_count": 25,
     "metadata": {},
     "output_type": "execute_result"
    }
   ],
   "source": [
    "dog.similarity(apple)"
   ]
  },
  {
   "cell_type": "code",
   "execution_count": 26,
   "metadata": {},
   "outputs": [
    {
     "data": {
      "text/plain": [
       "0.2742508"
      ]
     },
     "execution_count": 26,
     "metadata": {},
     "output_type": "execute_result"
    }
   ],
   "source": [
    "dog.similarity(orange)"
   ]
  },
  {
   "cell_type": "code",
   "execution_count": 27,
   "metadata": {},
   "outputs": [
    {
     "data": {
      "text/plain": [
       "0.56189173"
      ]
     },
     "execution_count": 27,
     "metadata": {},
     "output_type": "execute_result"
    }
   ],
   "source": [
    "apple.similarity(orange)"
   ]
  },
  {
   "cell_type": "code",
   "execution_count": 28,
   "metadata": {},
   "outputs": [],
   "source": [
    "from scipy.spatial.distance import cosine"
   ]
  },
  {
   "cell_type": "code",
   "execution_count": 29,
   "metadata": {},
   "outputs": [
    {
     "data": {
      "text/plain": [
       "0.8016855120658875"
      ]
     },
     "execution_count": 29,
     "metadata": {},
     "output_type": "execute_result"
    }
   ],
   "source": [
    "1 - cosine(dog.vector, cat.vector)"
   ]
  },
  {
   "cell_type": "code",
   "execution_count": 30,
   "metadata": {},
   "outputs": [],
   "source": [
    "def vector_similarity(x, y):\n",
    "    return 1 - cosine(x, y)"
   ]
  },
  {
   "cell_type": "code",
   "execution_count": 31,
   "metadata": {},
   "outputs": [
    {
     "data": {
      "text/plain": [
       "0.2633902430534363"
      ]
     },
     "execution_count": 31,
     "metadata": {},
     "output_type": "execute_result"
    }
   ],
   "source": [
    "vector_similarity(dog.vector, apple.vector)"
   ]
  },
  {
   "cell_type": "code",
   "execution_count": 33,
   "metadata": {},
   "outputs": [],
   "source": [
    "def make_guess_word(words):\n",
    "    [first, second, third] = words\n",
    "    return nlp.vocab[first].vector - nlp.vocab[second].vector + nlp.vocab[third].vector"
   ]
  },
  {
   "cell_type": "code",
   "execution_count": 34,
   "metadata": {},
   "outputs": [],
   "source": [
    "def get_similar_word(words, scope=nlp.vocab):\n",
    "    \n",
    "    guess_word = make_guess_word(words)\n",
    "    similarities = []\n",
    "    \n",
    "    for word in scope:\n",
    "        if not word.has_vector:\n",
    "            continue\n",
    "        \n",
    "        similarity = vector_similarity(guess_word, word.vector)\n",
    "        similarities.append((word, similarity))\n",
    "        \n",
    "    similarities = sorted(similarities, key=lambda item: -item[1])\n",
    "    print([word[0].text for word in similarities[:10]])"
   ]
  },
  {
   "cell_type": "code",
   "execution_count": 35,
   "metadata": {},
   "outputs": [],
   "source": [
    "words = [\"king\", \"queen\", \"woman\"]"
   ]
  },
  {
   "cell_type": "code",
   "execution_count": 36,
   "metadata": {},
   "outputs": [
    {
     "name": "stdout",
     "output_type": "stream",
     "text": [
      "['MAN', 'Man', 'mAn', 'MAn', 'MaN', 'man', 'mAN', 'WOMAN', 'womAn', 'WOman']\n"
     ]
    }
   ],
   "source": [
    "get_similar_word(words)"
   ]
  },
  {
   "cell_type": "code",
   "execution_count": 37,
   "metadata": {},
   "outputs": [],
   "source": [
    "words = [\"Paris\", \"London\", \"England\"]"
   ]
  },
  {
   "cell_type": "code",
   "execution_count": 38,
   "metadata": {},
   "outputs": [
    {
     "name": "stdout",
     "output_type": "stream",
     "text": [
      "['france', 'FRANCE', 'France', 'Paris', 'paris', 'PARIS', 'EUROPE', 'EUrope', 'europe', 'Europe']\n"
     ]
    }
   ],
   "source": [
    "get_similar_word(words)"
   ]
  },
  {
   "cell_type": "code",
   "execution_count": null,
   "metadata": {},
   "outputs": [],
   "source": []
  }
 ],
 "metadata": {
  "kernelspec": {
   "display_name": "Python 3",
   "language": "python",
   "name": "python3"
  },
  "language_info": {
   "codemirror_mode": {
    "name": "ipython",
    "version": 3
   },
   "file_extension": ".py",
   "mimetype": "text/x-python",
   "name": "python",
   "nbconvert_exporter": "python",
   "pygments_lexer": "ipython3",
   "version": "3.7.4"
  }
 },
 "nbformat": 4,
 "nbformat_minor": 2
}
