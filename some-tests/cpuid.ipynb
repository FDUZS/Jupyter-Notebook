{
 "cells": [
  {
   "cell_type": "code",
   "execution_count": 1,
   "metadata": {},
   "outputs": [
    {
     "name": "stdout",
     "output_type": "stream",
     "text": [
      "Vendor ID         : GenuineIntel\n",
      "CPU name          : Intel(R) Core(TM) i5-8250U CPU @ 1.60GHz\u0000\u0000\u0000\u0000\u0000\u0000\u0000\u0000\n",
      "Microarchitecture : kabylake\n",
      "Vector instructions supported:\n",
      "SSE       : Yes\n",
      "SSE2      : Yes\n",
      "SSE3      : Yes\n",
      "SSSE3     : Yes\n",
      "SSE4.1    : Yes\n",
      "SSE4.2    : Yes\n",
      "SSE4a     : --\n",
      "AVX       : Yes\n",
      "AVX2      : Yes\n",
      "BMI1      : Yes\n",
      "BMI2      : Yes\n"
     ]
    }
   ],
   "source": [
    "from cpuid import *\n",
    "\n",
    "def _is_set(id, reg_idx, bit):\n",
    "    regs = cpuid(id)\n",
    "\n",
    "    if (1 << bit) & regs[reg_idx]:\n",
    "        return \"Yes\"\n",
    "    else:\n",
    "        return \"--\"\n",
    "\n",
    "print(\"Vendor ID         : %s\" % cpu_vendor())\n",
    "print(\"CPU name          : %s\" % cpu_name())\n",
    "print(\"Microarchitecture : %s%s\" % cpu_microarchitecture())\n",
    "print(\"Vector instructions supported:\")\n",
    "print(\"SSE       : %s\" % _is_set(1, 3, 25))\n",
    "print(\"SSE2      : %s\" % _is_set(1, 3, 26))\n",
    "print(\"SSE3      : %s\" % _is_set(1, 2, 0))\n",
    "print(\"SSSE3     : %s\" % _is_set(1, 2, 9))\n",
    "print(\"SSE4.1    : %s\" % _is_set(1, 2, 19))\n",
    "print(\"SSE4.2    : %s\" % _is_set(1, 2, 20))\n",
    "print(\"SSE4a     : %s\" % _is_set(0x80000001, 2, 6))\n",
    "print(\"AVX       : %s\" % _is_set(1, 2, 28))\n",
    "print(\"AVX2      : %s\" % _is_set(7, 1, 5))\n",
    "print(\"BMI1      : %s\" % _is_set(7, 1, 3))\n",
    "print(\"BMI2      : %s\" % _is_set(7, 1, 8))"
   ]
  },
  {
   "cell_type": "code",
   "execution_count": null,
   "metadata": {},
   "outputs": [],
   "source": []
  }
 ],
 "metadata": {
  "kernelspec": {
   "display_name": "Python 3",
   "language": "python",
   "name": "python3"
  },
  "language_info": {
   "codemirror_mode": {
    "name": "ipython",
    "version": 3
   },
   "file_extension": ".py",
   "mimetype": "text/x-python",
   "name": "python",
   "nbconvert_exporter": "python",
   "pygments_lexer": "ipython3",
   "version": "3.7.6"
  }
 },
 "nbformat": 4,
 "nbformat_minor": 4
}
